{
 "cells": [
  {
   "cell_type": "markdown",
   "metadata": {},
   "source": [
    "\n",
    "# 🌼 RAG기법의 이해와 적용(3) - 2차시(24.11.29)\n",
    "\n",
    "---"
   ]
  },
  {
   "cell_type": "code",
   "execution_count": 1,
   "metadata": {},
   "outputs": [
    {
     "data": {
      "text/plain": [
       "True"
      ]
     },
     "execution_count": 1,
     "metadata": {},
     "output_type": "execute_result"
    }
   ],
   "source": [
    "from dotenv import load_dotenv\n",
    "\n",
    "load_dotenv()"
   ]
  },
  {
   "cell_type": "code",
   "execution_count": 2,
   "metadata": {},
   "outputs": [],
   "source": [
    "from langchain_teddynote import logging"
   ]
  },
  {
   "cell_type": "code",
   "execution_count": 4,
   "metadata": {},
   "outputs": [
    {
     "name": "stdout",
     "output_type": "stream",
     "text": [
      "LangSmith 추적을 시작합니다.\n",
      "[프로젝트명]\n",
      "LangChainProject\n"
     ]
    }
   ],
   "source": [
    "logging.langsmith('LangChainProject')"
   ]
  },
  {
   "cell_type": "code",
   "execution_count": 3,
   "metadata": {},
   "outputs": [],
   "source": [
    "from langchain_openai import ChatOpenAI\n",
    "from langchain_core.prompts import PromptTemplate"
   ]
  },
  {
   "cell_type": "code",
   "execution_count": 5,
   "metadata": {},
   "outputs": [],
   "source": [
    "llm = ChatOpenAI(model_name = 'gpt-4o')"
   ]
  },
  {
   "cell_type": "code",
   "execution_count": null,
   "metadata": {},
   "outputs": [],
   "source": [
    "prompt = PromptTemplate.from_template('{country}에 대해 300자 이내로 요약해서 설명해줘')"
   ]
  },
  {
   "cell_type": "code",
   "execution_count": 7,
   "metadata": {},
   "outputs": [],
   "source": [
    "chain = prompt | llm"
   ]
  },
  {
   "cell_type": "code",
   "execution_count": 8,
   "metadata": {},
   "outputs": [
    {
     "name": "stdout",
     "output_type": "stream",
     "text": [
      "한국은 동아시아에 위치한 반도 국가로, 공식 명칭은 대한민국입니다. 수도는 서울이며, 인구는 약 5,100만 명입니다. 한국은 역사적으로 고대 삼국 시대, 고려, 조선 왕조 등을 거치며 발전해왔습니다. 현대에는 기술과 문화의 중심지로, 특히 K-pop, 드라마 등 한류 문화가 세계적으로 인기를 끌고 있습니다. 경제적으로는 반도체, 자동차, 조선업 등이 주요 산업입니다. 정치 체제는 민주공화국이며, 남북으로 분단되어 있어 북한과의 관계가 중요한 외교 이슈입니다.\n",
      "CPU times: total: 203 ms\n",
      "Wall time: 2.91 s\n"
     ]
    }
   ],
   "source": [
    "%%time\n",
    "response = chain.invoke({'country' : '한국'})\n",
    "print(response.content)"
   ]
  },
  {
   "cell_type": "markdown",
   "metadata": {},
   "source": [
    "##### 출력 속도를 빠르게"
   ]
  },
  {
   "cell_type": "code",
   "execution_count": 9,
   "metadata": {},
   "outputs": [],
   "source": [
    "from langchain.globals import set_llm_cache\n",
    "from langchain.cache import InMemoryCache"
   ]
  },
  {
   "cell_type": "code",
   "execution_count": 12,
   "metadata": {},
   "outputs": [],
   "source": [
    "set_llm_cache(InMemoryCache())\n",
    "# 이미 처리된 요청과 응답 데이터를 메모리에 저장 => 동일한 요청이 들어오면 결과를 재사용"
   ]
  },
  {
   "cell_type": "code",
   "execution_count": 13,
   "metadata": {},
   "outputs": [
    {
     "name": "stdout",
     "output_type": "stream",
     "text": [
      "한국은 동아시아에 위치한 나라로, 공식적으로는 대한민국이라고 불립니다. 서울이 수도이며, 한반도의 남쪽에 자리 잡고 있습니다. 고대에는 고조선과 삼국시대, 고려, 조선 등의 왕조가 있었고, 현대에는 1948년 대한민국 정부가 수립되었습니다. 경제는 기술과 제조업 중심으로 발전했으며, 현대 문화, 특히 K-팝과 드라마가 전 세계적으로 인기를 끌고 있습니다. 정치 체제는 민주 공화국이며, 남북한 문제로 인해 여전히 군사적 긴장이 존재합니다.\n",
      "CPU times: total: 31.2 ms\n",
      "Wall time: 2.26 s\n"
     ]
    }
   ],
   "source": [
    "%%time\n",
    "response = chain.invoke({'country' : '한국'})\n",
    "print(response.content)"
   ]
  },
  {
   "cell_type": "code",
   "execution_count": 14,
   "metadata": {},
   "outputs": [
    {
     "name": "stdout",
     "output_type": "stream",
     "text": [
      "한국은 동아시아에 위치한 나라로, 공식적으로는 대한민국이라고 불립니다. 서울이 수도이며, 한반도의 남쪽에 자리 잡고 있습니다. 고대에는 고조선과 삼국시대, 고려, 조선 등의 왕조가 있었고, 현대에는 1948년 대한민국 정부가 수립되었습니다. 경제는 기술과 제조업 중심으로 발전했으며, 현대 문화, 특히 K-팝과 드라마가 전 세계적으로 인기를 끌고 있습니다. 정치 체제는 민주 공화국이며, 남북한 문제로 인해 여전히 군사적 긴장이 존재합니다.\n",
      "CPU times: total: 0 ns\n",
      "Wall time: 4.04 ms\n"
     ]
    }
   ],
   "source": [
    "%%time\n",
    "response = chain.invoke({'country' : '한국'})\n",
    "print(response.content)"
   ]
  },
  {
   "cell_type": "code",
   "execution_count": null,
   "metadata": {},
   "outputs": [],
   "source": [
    "from langchain_community.cache import SQLiteCache\n",
    "# 영구적 데이터 사용 가능\n",
    "# 파일을 삭제하거나 새로운 경로 사용시 리셋\n",
    "from langchain_core.globals import set_llm_cache\n",
    "import os"
   ]
  },
  {
   "cell_type": "code",
   "execution_count": 16,
   "metadata": {},
   "outputs": [],
   "source": [
    "if not os.path.exists('cache'):\n",
    "    os.makedirs('cache')"
   ]
  },
  {
   "cell_type": "code",
   "execution_count": null,
   "metadata": {},
   "outputs": [],
   "source": [
    "set_llm_cache(SQLiteCache(database_path='cache/llm_cache.db'))\n",
    "# 영구적 저장가능한 SQL DB 생성"
   ]
  },
  {
   "cell_type": "code",
   "execution_count": 19,
   "metadata": {},
   "outputs": [
    {
     "name": "stdout",
     "output_type": "stream",
     "text": [
      "스페인은 유럽 남서부에 위치한 입헌군주국으로, 수도는 마드리드입니다. 이베리아 반도를 차지하고 있으며, 포르투갈과 국경을 접하고 있습니다. 스페인은 다양한 문화와 역사를 지니고 있으며, 플라멩코와 투우, 건축물로 유명합니다. 주요 언어는 스페인어이며, 경제는 관광업, 농업, 제조업이 중심입니다. 유럽연합(EU)과 유로존의 일원으로 정치, 경제적으로 중요한 역할을 하고 있습니다.\n",
      "CPU times: total: 0 ns\n",
      "Wall time: 4.99 ms\n"
     ]
    }
   ],
   "source": [
    "%%time\n",
    "response = chain.invoke({'country':'스페인'})\n",
    "print(response.content)"
   ]
  },
  {
   "cell_type": "code",
   "execution_count": 20,
   "metadata": {},
   "outputs": [
    {
     "name": "stdout",
     "output_type": "stream",
     "text": [
      "스페인은 유럽 남서부에 위치한 입헌군주국으로, 수도는 마드리드입니다. 이베리아 반도를 차지하고 있으며, 포르투갈과 국경을 접하고 있습니다. 스페인은 다양한 문화와 역사를 지니고 있으며, 플라멩코와 투우, 건축물로 유명합니다. 주요 언어는 스페인어이며, 경제는 관광업, 농업, 제조업이 중심입니다. 유럽연합(EU)과 유로존의 일원으로 정치, 경제적으로 중요한 역할을 하고 있습니다.\n",
      "CPU times: total: 0 ns\n",
      "Wall time: 5.98 ms\n"
     ]
    }
   ],
   "source": [
    "%%time\n",
    "response = chain.invoke({'country':'스페인'})\n",
    "print(response.content)"
   ]
  },
  {
   "cell_type": "code",
   "execution_count": 21,
   "metadata": {},
   "outputs": [],
   "source": [
    "import sqlite3"
   ]
  },
  {
   "cell_type": "code",
   "execution_count": 23,
   "metadata": {},
   "outputs": [],
   "source": [
    "db_path = 'cache/llm_cache.db'\n",
    "conn = sqlite3.connect(db_path)\n",
    "cursor = conn.cursor()"
   ]
  },
  {
   "cell_type": "code",
   "execution_count": 24,
   "metadata": {},
   "outputs": [
    {
     "name": "stdout",
     "output_type": "stream",
     "text": [
      "Table [('full_llm_cache',), ('full_md5_llm_cache',)]\n"
     ]
    }
   ],
   "source": [
    "cursor.execute(\"SELECT name FROM sqlite_master WHERE type='table';\")\n",
    "tables = cursor.fetchall()\n",
    "print('Table', tables)"
   ]
  },
  {
   "cell_type": "code",
   "execution_count": 25,
   "metadata": {},
   "outputs": [
    {
     "name": "stdout",
     "output_type": "stream",
     "text": [
      "('[{\"lc\": 1, \"type\": \"constructor\", \"id\": [\"langchain\", \"schema\", \"messages\", \"HumanMessage\"], \"kwargs\": {\"content\": \"\\\\uc2a4\\\\ud398\\\\uc778\\\\uc5d0 \\\\ub300\\\\ub798 300\\\\uc790 \\\\uc774\\\\ub0b4\\\\ub85c \\\\uc694\\\\uc57d\\\\ud574\\\\uc11c \\\\uc124\\\\uba85\\\\ud574\\\\uc918\", \"type\": \"human\"}}]', '{\"id\": [\"langchain\", \"chat_models\", \"openai\", \"ChatOpenAI\"], \"kwargs\": {\"max_retries\": 2, \"model_name\": \"gpt-4o\", \"n\": 1, \"openai_api_key\": {\"id\": [\"OPENAI_API_KEY\"], \"lc\": 1, \"type\": \"secret\"}, \"temperature\": 0.7}, \"lc\": 1, \"name\": \"ChatOpenAI\", \"type\": \"constructor\"}---[(\\'stop\\', None)]', 0, '{\"lc\": 1, \"type\": \"constructor\", \"id\": [\"langchain\", \"schema\", \"output\", \"ChatGeneration\"], \"kwargs\": {\"text\": \"\\\\uc2a4\\\\ud398\\\\uc778\\\\uc740 \\\\uc720\\\\ub7fd \\\\ub0a8\\\\uc11c\\\\ubd80\\\\uc5d0 \\\\uc704\\\\uce58\\\\ud55c \\\\uc785\\\\ud5cc\\\\uad70\\\\uc8fc\\\\uad6d\\\\uc73c\\\\ub85c, \\\\uc218\\\\ub3c4\\\\ub294 \\\\ub9c8\\\\ub4dc\\\\ub9ac\\\\ub4dc\\\\uc785\\\\ub2c8\\\\ub2e4. \\\\uc774\\\\ubca0\\\\ub9ac\\\\uc544 \\\\ubc18\\\\ub3c4\\\\ub97c \\\\ucc28\\\\uc9c0\\\\ud558\\\\uace0 \\\\uc788\\\\uc73c\\\\uba70, \\\\ud3ec\\\\ub974\\\\ud22c\\\\uac08\\\\uacfc \\\\uad6d\\\\uacbd\\\\uc744 \\\\uc811\\\\ud558\\\\uace0 \\\\uc788\\\\uc2b5\\\\ub2c8\\\\ub2e4. \\\\uc2a4\\\\ud398\\\\uc778\\\\uc740 \\\\ub2e4\\\\uc591\\\\ud55c \\\\ubb38\\\\ud654\\\\uc640 \\\\uc5ed\\\\uc0ac\\\\ub97c \\\\uc9c0\\\\ub2c8\\\\uace0 \\\\uc788\\\\uc73c\\\\uba70, \\\\ud50c\\\\ub77c\\\\uba69\\\\ucf54\\\\uc640 \\\\ud22c\\\\uc6b0, \\\\uac74\\\\ucd95\\\\ubb3c\\\\ub85c \\\\uc720\\\\uba85\\\\ud569\\\\ub2c8\\\\ub2e4. \\\\uc8fc\\\\uc694 \\\\uc5b8\\\\uc5b4\\\\ub294 \\\\uc2a4\\\\ud398\\\\uc778\\\\uc5b4\\\\uc774\\\\uba70, \\\\uacbd\\\\uc81c\\\\ub294 \\\\uad00\\\\uad11\\\\uc5c5, \\\\ub18d\\\\uc5c5, \\\\uc81c\\\\uc870\\\\uc5c5\\\\uc774 \\\\uc911\\\\uc2ec\\\\uc785\\\\ub2c8\\\\ub2e4. \\\\uc720\\\\ub7fd\\\\uc5f0\\\\ud569(EU)\\\\uacfc \\\\uc720\\\\ub85c\\\\uc874\\\\uc758 \\\\uc77c\\\\uc6d0\\\\uc73c\\\\ub85c \\\\uc815\\\\uce58, \\\\uacbd\\\\uc81c\\\\uc801\\\\uc73c\\\\ub85c \\\\uc911\\\\uc694\\\\ud55c \\\\uc5ed\\\\ud560\\\\uc744 \\\\ud558\\\\uace0 \\\\uc788\\\\uc2b5\\\\ub2c8\\\\ub2e4.\", \"generation_info\": {\"finish_reason\": \"stop\", \"logprobs\": null}, \"type\": \"ChatGeneration\", \"message\": {\"lc\": 1, \"type\": \"constructor\", \"id\": [\"langchain\", \"schema\", \"messages\", \"AIMessage\"], \"kwargs\": {\"content\": \"\\\\uc2a4\\\\ud398\\\\uc778\\\\uc740 \\\\uc720\\\\ub7fd \\\\ub0a8\\\\uc11c\\\\ubd80\\\\uc5d0 \\\\uc704\\\\uce58\\\\ud55c \\\\uc785\\\\ud5cc\\\\uad70\\\\uc8fc\\\\uad6d\\\\uc73c\\\\ub85c, \\\\uc218\\\\ub3c4\\\\ub294 \\\\ub9c8\\\\ub4dc\\\\ub9ac\\\\ub4dc\\\\uc785\\\\ub2c8\\\\ub2e4. \\\\uc774\\\\ubca0\\\\ub9ac\\\\uc544 \\\\ubc18\\\\ub3c4\\\\ub97c \\\\ucc28\\\\uc9c0\\\\ud558\\\\uace0 \\\\uc788\\\\uc73c\\\\uba70, \\\\ud3ec\\\\ub974\\\\ud22c\\\\uac08\\\\uacfc \\\\uad6d\\\\uacbd\\\\uc744 \\\\uc811\\\\ud558\\\\uace0 \\\\uc788\\\\uc2b5\\\\ub2c8\\\\ub2e4. \\\\uc2a4\\\\ud398\\\\uc778\\\\uc740 \\\\ub2e4\\\\uc591\\\\ud55c \\\\ubb38\\\\ud654\\\\uc640 \\\\uc5ed\\\\uc0ac\\\\ub97c \\\\uc9c0\\\\ub2c8\\\\uace0 \\\\uc788\\\\uc73c\\\\uba70, \\\\ud50c\\\\ub77c\\\\uba69\\\\ucf54\\\\uc640 \\\\ud22c\\\\uc6b0, \\\\uac74\\\\ucd95\\\\ubb3c\\\\ub85c \\\\uc720\\\\uba85\\\\ud569\\\\ub2c8\\\\ub2e4. \\\\uc8fc\\\\uc694 \\\\uc5b8\\\\uc5b4\\\\ub294 \\\\uc2a4\\\\ud398\\\\uc778\\\\uc5b4\\\\uc774\\\\uba70, \\\\uacbd\\\\uc81c\\\\ub294 \\\\uad00\\\\uad11\\\\uc5c5, \\\\ub18d\\\\uc5c5, \\\\uc81c\\\\uc870\\\\uc5c5\\\\uc774 \\\\uc911\\\\uc2ec\\\\uc785\\\\ub2c8\\\\ub2e4. \\\\uc720\\\\ub7fd\\\\uc5f0\\\\ud569(EU)\\\\uacfc \\\\uc720\\\\ub85c\\\\uc874\\\\uc758 \\\\uc77c\\\\uc6d0\\\\uc73c\\\\ub85c \\\\uc815\\\\uce58, \\\\uacbd\\\\uc81c\\\\uc801\\\\uc73c\\\\ub85c \\\\uc911\\\\uc694\\\\ud55c \\\\uc5ed\\\\ud560\\\\uc744 \\\\ud558\\\\uace0 \\\\uc788\\\\uc2b5\\\\ub2c8\\\\ub2e4.\", \"additional_kwargs\": {\"refusal\": null}, \"response_metadata\": {\"token_usage\": {\"completion_tokens\": 126, \"prompt_tokens\": 25, \"total_tokens\": 151, \"completion_tokens_details\": {\"accepted_prediction_tokens\": 0, \"audio_tokens\": 0, \"reasoning_tokens\": 0, \"rejected_prediction_tokens\": 0}, \"prompt_tokens_details\": {\"audio_tokens\": 0, \"cached_tokens\": 0}}, \"model_name\": \"gpt-4o-2024-08-06\", \"system_fingerprint\": \"fp_831e067d82\", \"finish_reason\": \"stop\", \"logprobs\": null}, \"type\": \"ai\", \"id\": \"run-19f4f3f9-3f9a-4472-8cb5-d788d243937a-0\", \"usage_metadata\": {\"input_tokens\": 25, \"output_tokens\": 126, \"total_tokens\": 151, \"input_token_details\": {\"audio\": 0, \"cache_read\": 0}, \"output_token_details\": {\"audio\": 0, \"reasoning\": 0}}, \"tool_calls\": [], \"invalid_tool_calls\": []}}}}')\n"
     ]
    }
   ],
   "source": [
    "cursor.execute('SELECT * FROM full_llm_cache')\n",
    "rows = cursor.fetchall()\n",
    "for row in rows:\n",
    "    print(row)"
   ]
  },
  {
   "cell_type": "code",
   "execution_count": 26,
   "metadata": {},
   "outputs": [],
   "source": [
    "conn.close()\n",
    "# 문을 잘 열고 닫기"
   ]
  },
  {
   "cell_type": "code",
   "execution_count": 27,
   "metadata": {},
   "outputs": [],
   "source": [
    "from langchain.callbacks import get_openai_callback\n",
    "from langchain_openai import ChatOpenAI"
   ]
  },
  {
   "cell_type": "code",
   "execution_count": 28,
   "metadata": {},
   "outputs": [
    {
     "name": "stdout",
     "output_type": "stream",
     "text": [
      "Tokens Used: 24\n",
      "\tPrompt Tokens: 16\n",
      "\tCompletion Tokens: 8\n",
      "Successful Requests: 1\n",
      "Total Cost (USD): $0.00012000000000000002\n",
      "CPU times: total: 62.5 ms\n",
      "Wall time: 1.06 s\n"
     ]
    }
   ],
   "source": [
    "%%time\n",
    "\n",
    "with get_openai_callback() as cb:\n",
    "    result = llm.invoke('대한민국의 수도는 어디인가요?')\n",
    "    print(cb)"
   ]
  },
  {
   "cell_type": "code",
   "execution_count": 30,
   "metadata": {},
   "outputs": [
    {
     "name": "stdout",
     "output_type": "stream",
     "text": [
      "총 사용된 토큰 수 : 119\n",
      "프롬프트에 사용된 토큰 수 : 18\n",
      "답변에 사용된 토큰 수 : 101\n",
      "호출에 청구된 금액(USD): 0.001055\n"
     ]
    }
   ],
   "source": [
    "with get_openai_callback() as cb:\n",
    "    result = llm.invoke('김경일 교수의 명언 하나 가져와줘')\n",
    "    print(f'총 사용된 토큰 수 : {cb.total_tokens}')\n",
    "    print(f'프롬프트에 사용된 토큰 수 : {cb.prompt_tokens}')\n",
    "    print(f'답변에 사용된 토큰 수 : {cb.completion_tokens}')\n",
    "    print(f'호출에 청구된 금액(USD): {cb.total_cost}')"
   ]
  },
  {
   "cell_type": "code",
   "execution_count": null,
   "metadata": {},
   "outputs": [
    {
     "name": "stdout",
     "output_type": "stream",
     "text": [
      "Note: you may need to restart the kernel to use updated packages.\n"
     ]
    },
    {
     "name": "stderr",
     "output_type": "stream",
     "text": [
      "  WARNING: Failed to remove contents in a temporary directory 'C:\\Users\\RMARKET\\anaconda3\\envs\\langchain\\Lib\\site-packages\\~ydantic_core'.\n",
      "  You can safely remove it manually.\n"
     ]
    }
   ],
   "source": [
    "# pip install -qU langchain-community arxiv pymupdf pypdf unstructured python-pptx"
   ]
  },
  {
   "cell_type": "code",
   "execution_count": null,
   "metadata": {},
   "outputs": [],
   "source": [
    "file_path = './data/SPRi AI Brief_11월호_산업동향_F.pdf'"
   ]
  },
  {
   "cell_type": "code",
   "execution_count": 33,
   "metadata": {},
   "outputs": [],
   "source": [
    "def show_metadata(docs):\n",
    "    if docs:\n",
    "        print('[metadata]')\n",
    "        keys = []\n",
    "        for k in docs[0].metadata.keys():\n",
    "            keys.append(k)\n",
    "        print(keys)"
   ]
  },
  {
   "cell_type": "code",
   "execution_count": 34,
   "metadata": {},
   "outputs": [],
   "source": [
    "from langchain_community.document_loaders import PyPDFLoader\n",
    "\n",
    "loder = PyPDFLoader(file_path)"
   ]
  },
  {
   "cell_type": "code",
   "execution_count": 35,
   "metadata": {},
   "outputs": [],
   "source": [
    "docs = loder.load()"
   ]
  },
  {
   "cell_type": "code",
   "execution_count": 36,
   "metadata": {},
   "outputs": [
    {
     "name": "stdout",
     "output_type": "stream",
     "text": [
      "[metadata]\n",
      "['source', 'page']\n"
     ]
    }
   ],
   "source": [
    "show_metadata(docs)"
   ]
  },
  {
   "cell_type": "code",
   "execution_count": 37,
   "metadata": {},
   "outputs": [
    {
     "name": "stdout",
     "output_type": "stream",
     "text": [
      "SPRi AI Brief |  2024-11월호\n",
      "8\n",
      "메타, 이미지와 텍스트 처리하는 첫 멀티모달 AI 모델 ‘라마 3.2’ 공개n메타가 이미지와 텍스트를 모두 처리할 수 있는 모델과 모바일 기기에서 실행 가능한 경량 모델을 포함하는 라마 3.2 시리즈를 공개n비전 기능을 갖춘 라마 3.2 90B 모델은 다양한 이미지 인식과 시각적 이해 작업에서 앤스로픽의 ‘클로드3-하이쿠’ 및 오픈AI의 ‘GPT-4o-미니’와 대등한 수준의 성능 보유\n",
      "KEY Contents\n",
      "£라마 3.2 90B 모델, 이미지 인식과 시각적 이해에서 GPT-4o-미\n"
     ]
    }
   ],
   "source": [
    "print(docs[10].page_content[:300])"
   ]
  },
  {
   "cell_type": "code",
   "execution_count": null,
   "metadata": {},
   "outputs": [
    {
     "name": "stdout",
     "output_type": "stream",
     "text": [
      "2024년 11월호\n"
     ]
    }
   ],
   "source": [
    "print(docs[0].page_content[:300])\n",
    "# 이미지형태의 텍스트는 읽어오지 못함"
   ]
  },
  {
   "cell_type": "code",
   "execution_count": 73,
   "metadata": {},
   "outputs": [],
   "source": [
    "file_path = './data/RAG(지식 검색 및 생성 기법)기법 적용_2일차.pptx'"
   ]
  },
  {
   "cell_type": "code",
   "execution_count": 74,
   "metadata": {},
   "outputs": [],
   "source": [
    "from langchain_community.document_loaders import UnstructuredPowerPointLoader\n",
    "\n",
    "loader = UnstructuredPowerPointLoader(file_path)"
   ]
  },
  {
   "cell_type": "code",
   "execution_count": 76,
   "metadata": {},
   "outputs": [
    {
     "data": {
      "text/plain": [
       "[Document(metadata={'source': './data/RAG(지식 검색 및 생성 기법)기법 적용_2일차.pptx'}, page_content='RAG(지식 검색 및 생성 기법) 적용\\n\\nDay 02\\n\\n강의자 : 김수빈\\n\\n\\n\\n1\\n\\n2\\n\\n3\\n\\nContents\\n\\nRAG\\n\\n벡터 DB\\n\\nLangchain\\n\\n\\n\\n1\\n\\n2\\n\\n3\\n\\n3\\n\\nLangChain\\n\\n랭체인?\\n\\n- 대규모 언어 모델(LLM)을 활용한 애플리케이션을 쉽게 개발할 수 있도록 도와주는 프레임워크\\n\\nLLM과 도구 연결 : Vecor DB, API, 파일 등과 통합\\n\\n작업 자동화 : 자동화된 워크플로우 구현 지원\\n\\n검색 및 생성 기능 : LLM과 검색 기반 시스템을 결합해 응답의 품질 향상\\n\\n\\n\\n3\\n\\nLangChain\\n\\n기능\\n\\n프롬프트 지시사항, 소수의 예시, 응답에 근거한 내용 등을 포함한 다양한 문맥 소스와 모델의 연결\\n\\n→ 언어 모델은 제공된 정보를 기반으로 더 정확하고 관련성 높은 답변을 생성할 수 있다.\\n\\n문맥 인식\\n\\n언어 모델은 주어진 문맥을 바탕으로 어떤 답변을 제공하거나 어떤 조취를 취해야 할지 스스로 추론할 수 있다\\n\\n→ 단순히 정보 재생산이 아니라 주어진 상황을 분석하고 적절한 해결책 제시 가능\\n\\n추론\\n\\n\\n\\n3\\n\\nLangChain\\n\\nLangSmith\\n\\nLLM 애플리케이션 개발, 모니터링 및 테스트를 위한 플랫폼\\n\\n단순히 정보 재생산이 아니라 주어진 상황을 분석하고 적절한 해결책 제시 가능\\n\\n추적 기능\\n\\n예상치 못한 최종 결과, 체인이 예상보다 느린 이유 등에 대해 추적하는데 도움이 될 수 있다\\n\\n\\n\\n3\\n\\nLangChain\\n\\nLangSmith\\n\\nhttps://smith.langchain.com\\n\\n- 마찬가지로 키 발급(★★★★★★저장필수)\\n\\n- .env에 넣어야 할 항목\\n\\n```\\n\\nLANGCHAIN_TRACING_V2 = true\\n\\nLANGCHAIN_ENDPOINT = https://api.langchain.com\\n\\nLANGCHAIN_API_KEY = 발급받은 키\\n\\nLANGCHAIN_PROJECT = 프로젝트명\\n\\n```\\n\\n\\n\\n감사합니다.\\n\\nThank You')]"
      ]
     },
     "execution_count": 76,
     "metadata": {},
     "output_type": "execute_result"
    }
   ],
   "source": [
    "docs = loader.load()\n",
    "docs"
   ]
  },
  {
   "cell_type": "code",
   "execution_count": 63,
   "metadata": {},
   "outputs": [],
   "source": [
    "import bs4\n",
    "from langchain_community.document_loaders import WebBaseLoader"
   ]
  },
  {
   "cell_type": "code",
   "execution_count": null,
   "metadata": {},
   "outputs": [
    {
     "data": {
      "text/plain": [
       "2"
      ]
     },
     "execution_count": 71,
     "metadata": {},
     "output_type": "execute_result"
    }
   ],
   "source": [
    "url1 = 'https://www.langchain.com/'\n",
    "url2 = 'https://python.langchain.com/v0.2/docs/introduction/'\n",
    "\n",
    "loader = WebBaseLoader(\n",
    "    web_path = (url1, url2),\n",
    "    bs_kwargs = dict(\n",
    "        parse_only = bs4.SoupStrainer(\n",
    "            # 필터 넣어주기\n",
    "            # class_ = ('docs-doc-page')\n",
    "            name = ('div')\n",
    "            # text = ('')\n",
    "        )\n",
    "    )\n",
    ")\n",
    "\n",
    "docs = loader.load()\n",
    "len(docs)"
   ]
  },
  {
   "cell_type": "code",
   "execution_count": 72,
   "metadata": {},
   "outputs": [
    {
     "data": {
      "text/plain": [
       "Document(metadata={'source': 'https://www.langchain.com/'}, page_content=\"\\n\\n\\n\\n\\n\\n\\n\\n\\n\\n\\n\\n\\nProducts\\n\\nLangChainLangSmithLangGraphMethods\\n\\nRetrievalAgentsEvaluationResources\\n\\nBlogCase StudiesLangChain AcademyCommunityExpertsChangelogState of AI AgentsBreakout Agent StoriesDocs\\n\\nPythonLangChainLangSmithLangGraphJavaScriptLangChainLangSmithLangGraphCompany\\n\\nAboutCareersPricing\\n\\nLangSmithLangGraph PlatformGet a demoSign up\\n\\n\\n\\n\\n\\n\\n\\n\\n\\n\\n\\n\\nProducts\\n\\nLangChainLangSmithLangGraphMethods\\n\\nRetrievalAgentsEvaluationResources\\n\\nBlogCase StudiesLangChain AcademyCommunityExpertsChangelogState of AI AgentsBreakout Agent StoriesDocs\\n\\nPythonLangChainLangSmithLangGraphJavaScriptLangChainLangSmithLangGraphCompany\\n\\nAboutCareersPricing\\n\\nLangSmithLangGraph PlatformGet a demoSign upLangChain’s suite of products supports developers along each step of the LLM application lifecycle.Applications that can reason. Powered by LangChain.Get a demoSign up for free\\n\\nFrom startups to global enterprises, ambitious builders choose LangChain products.BuildLangChain is a composable framework to build with LLMs. LangGraph is the orchestration framework for controllable agentic workflows.RunDeploy your LLM applications at scale with LangGraph Platform, our infrastructure purpose-built for agents.ManageDebug, collaborate, test, and monitor your LLM app in LangSmith - whether it's built with a LangChain framework or not.\\xa0\\n\\n\\n\\nBuild your app with LangChainBuild context-aware, reasoning applications with LangChain’s flexible framework that leverages your company’s data and APIs. Future-proof your application by making vendor optionality part of your LLM infrastructure design.Learn more about LangChain\\n\\n\\n\\n\\nRun at scale with LangGraph\\xa0PlatformUse LangGraph Platform’s APIs to design agent-driven user experiences featuring human-in-the-loop, multi-agent collaboration, conversation history, long-term memory, and time-travel. Deploy with fault-tolerant scalability.\\n\\n\\nLearn more about LangGraph\\xa0Platform\\n\\nManage LLM performance with\\xa0LangSmithShip faster with LangSmith’s debug, test, deploy, and monitoring workflows. Don’t rely on “vibes” – add engineering rigor to your LLM-development workflow, whether you’re building with LangChain or not.Learn more about LangSmith\\n\\n\\nHear from our happy customersLangChain, LangGraph, and LangSmith help teams of all sizes, across all industries - from ambitious startups to established enterprises.“LangSmith helped us improve the accuracy and performance of Retool’s fine-tuned models. Not only did we deliver a better product by iterating with LangSmith, but we’re shipping new AI features to our users in a fraction of the time it would have taken without it.”Jamie CuffeHead of Self-Serve and New Products“By combining the benefits of LangSmith and standing on the shoulders of a gigantic open-source community, we’re able to identify the right approaches of using LLMs in an enterprise-setting faster.”Yusuke KajiGeneral Manager of AI“Working with LangChain and LangSmith on the Elastic AI Assistant had a significant positive impact on the overall pace and quality of the development and shipping experience. We couldn’t have achieved \\xa0the product experience delivered to our customers without LangChain, and we couldn’t have done it at the same pace without LangSmith.”James SpiteriDirector of Security Products“As soon as we heard about LangSmith, we moved our entire development stack onto it. We could have built evaluation, testing and monitoring tools in house, but with LangSmith it took us 10x less time to get a 1000x better tool.”Jose PeñaSenior Manager\\n\\n\\n\\n\\n\\n\\n\\n\\nThe reference architecture enterprises adopt for success.LangChain’s suite of products can be used independently or stacked together for multiplicative impact – guiding you through building, running, and managing your LLM apps.15M+Monthly Downloads100K+Apps Powered100K+GitHub Stars4K+ContributorsThe biggest developer community in GenAILearn alongside the 1M+ developers who are pushing the industry forward.Explore LangChain\\n\\n\\nGet started with the LangSmith platform todayGet a demoSign up for freeTeams building with LangChain are driving operational efficiency, increasing discovery & personalization, and delivering premium products that generate revenue.See customer stories\\n\\n\\nGet inspired by companies who have done it.Financial Services\\n\\n\\nFinTech\\n\\n\\nTechnology\\n\\n\\nLangSmith is the enterprise\\xa0developer platform\\xa0built for LLMs.Explore LangSmith\\n\\n\\n\\n\\nGain visibility to make trade offs between cost, latency, and quality.\\n\\nIncrease developer productivity.\\n\\nEliminate manual, error-prone testing.\\n\\nReduce hallucinations and improve reliability.\\n\\nEnterprise deployment options to keep data secure.Ready to start shipping \\u2028reliable GenAI apps faster?Get started with LangChain, LangSmith, and LangGraph to enhance your LLM app development, from prototype to production.Get a demoSign up for freeProductsLangChainLangSmithLangGraphAgentsEvaluationRetrievalResourcesPython DocsJS/TS DocsGitHubIntegrationsChangelogLangSmith Trust PortalCompanyAboutBlogTwitterLinkedInYouTubeCommunityMarketing AssetsSign up for our newsletter to stay up to dateThank you! Your submission has been received!Oops! Something went wrong while submitting the form.All systems operationalPrivacy PolicyTerms of Service\\n\")"
      ]
     },
     "execution_count": 72,
     "metadata": {},
     "output_type": "execute_result"
    }
   ],
   "source": [
    "docs[0]"
   ]
  },
  {
   "cell_type": "code",
   "execution_count": 53,
   "metadata": {},
   "outputs": [],
   "source": [
    "from langchain_community.document_loaders import ArxivLoader"
   ]
  },
  {
   "cell_type": "code",
   "execution_count": 54,
   "metadata": {},
   "outputs": [],
   "source": [
    "loader = ArxivLoader(\n",
    "    query = 'ChatGTP',\n",
    "    load_max_docs = 2,\n",
    "    load_all_available_mata = False\n",
    ")"
   ]
  },
  {
   "cell_type": "code",
   "execution_count": 55,
   "metadata": {},
   "outputs": [],
   "source": [
    "docs = loader.load()"
   ]
  },
  {
   "cell_type": "code",
   "execution_count": 56,
   "metadata": {},
   "outputs": [
    {
     "data": {
      "text/plain": [
       "{'Published': '2023-02-01',\n",
       " 'Title': 'Could an Artificial-Intelligence agent pass an introductory physics course?',\n",
       " 'Authors': 'Gerd Kortemeyer',\n",
       " 'Summary': 'Massive pre-trained language models have garnered attention and controversy\\ndue to their ability to generate human-like responses: attention due to their\\nfrequent indistinguishability from human-generated phraseology and narratives,\\nand controversy due to the fact that their convincingly presented arguments and\\nfacts are frequently simply false. Just how human-like are these responses when\\nit comes to dialogues about physics, in particular about the standard content\\nof introductory physics courses? This study explores that question by having\\nChatGTP, the pre-eminent language model in 2023, work through representative\\nassessment content of an actual calculus-based physics course and grading the\\nresponses in the same way human responses would be graded. As it turns out,\\nChatGPT would narrowly pass this course while exhibiting many of the\\npreconceptions and errors of a beginning learner.'}"
      ]
     },
     "execution_count": 56,
     "metadata": {},
     "output_type": "execute_result"
    }
   ],
   "source": [
    "docs[0].metadata"
   ]
  },
  {
   "cell_type": "code",
   "execution_count": 57,
   "metadata": {},
   "outputs": [
    {
     "data": {
      "text/plain": [
       "{'Published': '2023-09-26',\n",
       " 'Title': 'ChatGPT impacts in programming education: A recent literature overview that debates ChatGPT responses',\n",
       " 'Authors': 'Christos-Nikolaos Anagnostopoulos',\n",
       " 'Summary': 'This paper aims at a brief overview of the main impact of ChatGTP in the\\nscientific field of programming and learning/education in computer science. It\\nlists, covers and documents from the literature the major issues that have been\\nidentified for this topic, such as applications, advantages and limitations,\\nethical issues raised. Answers to the above questions were solicited from\\nChatGPT itself, the responses were collected, and then the recent literature\\nwas surveyed to determine whether or not the responses are supported. The paper\\nends with a short discussion on what is expected to happen in the near future.\\nA future that can be extremely promising if humanity manages to have AI as a\\nproper ally and partner, with distinct roles and specific rules of cooperation\\nand interaction.'}"
      ]
     },
     "execution_count": 57,
     "metadata": {},
     "output_type": "execute_result"
    }
   ],
   "source": [
    "docs[1].metadata"
   ]
  },
  {
   "cell_type": "code",
   "execution_count": null,
   "metadata": {},
   "outputs": [
    {
     "name": "stdout",
     "output_type": "stream",
     "text": [
      "Massive pre-trained language models have garnered attention and controversy\n",
      "due to their ability to generate human-like responses: attention due to their\n",
      "frequent indistinguishability from human-generated phraseology and narratives,\n",
      "and controversy due to the fact that their convincingly presented arguments and\n",
      "facts are frequently simply false. Just how human-like are these responses when\n",
      "it comes to dialogues about physics, in particular about the standard content\n",
      "of introductory physics courses? This study explores that question by having\n",
      "ChatGTP, the pre-eminent language model in 2023, work through representative\n",
      "assessment content of an actual calculus-based physics course and grading the\n",
      "responses in the same way human responses would be graded. As it turns out,\n",
      "ChatGPT would narrowly pass this course while exhibiting many of the\n",
      "preconceptions and errors of a beginning learner.\n"
     ]
    }
   ],
   "source": [
    "# 문서 전체 요약본 Summary부분 보기\n",
    "docs = loader.get_summaries_as_docs()\n",
    "print(docs[0].page_content)"
   ]
  },
  {
   "cell_type": "code",
   "execution_count": null,
   "metadata": {},
   "outputs": [],
   "source": [
    "# arxiv.org\n",
    "# 수학 컴퓨터과학 물리 전기 ... 논문 "
   ]
  }
 ],
 "metadata": {
  "kernelspec": {
   "display_name": "langchain",
   "language": "python",
   "name": "python3"
  },
  "language_info": {
   "codemirror_mode": {
    "name": "ipython",
    "version": 3
   },
   "file_extension": ".py",
   "mimetype": "text/x-python",
   "name": "python",
   "nbconvert_exporter": "python",
   "pygments_lexer": "ipython3",
   "version": "3.11.10"
  }
 },
 "nbformat": 4,
 "nbformat_minor": 2
}
